{
 "cells": [
  {
   "cell_type": "markdown",
   "id": "f044898c-6876-4e3e-9f4e-3ad24cf649d8",
   "metadata": {},
   "source": [
    "## Figure 4: Multiple equilibria"
   ]
  },
  {
   "cell_type": "markdown",
   "id": "4c3fac08-c42c-4a80-aff9-45200cec741a",
   "metadata": {},
   "source": [
    "Figure that shows banking after last period as a function of the initial allowance price, and illustrates the possibility of multiple equilibria from the MSR model, that is defined where the initial price intercepts with last period banking being equal to zero.\n"
   ]
  },
  {
   "cell_type": "markdown",
   "id": "329353d0-e151-4aec-a3dd-b7d35ab487c1",
   "metadata": {},
   "source": [
    "### Setup"
   ]
  },
  {
   "cell_type": "code",
   "execution_count": 81,
   "id": "0c36ca45-4145-478c-932e-3e775eb9bfde",
   "metadata": {},
   "outputs": [],
   "source": [
    "import pandas as pd\n",
    "import numpy as np\n",
    "import matplotlib.pyplot as plt\n",
    "\n",
    "# Generate a list for time periods t that ranges from 0 to 45. Generate a corresponding list for the years of the scheme.\n",
    "t = list(range(0, 31))\n",
    "year = list(map(str, range(2020, 2051)))\n",
    "\n",
    "# Generate dictionnary\n",
    "dictionnary = {'t': t, 'year':year}\n",
    "\n",
    "# Generate Dataframe from dictionnary\n",
    "df = pd.DataFrame(dictionnary)\n"
   ]
  },
  {
   "cell_type": "markdown",
   "id": "39f52eb6-9fa0-4ae0-8832-be7a18206dcd",
   "metadata": {},
   "source": [
    "### Variables"
   ]
  },
  {
   "cell_type": "code",
   "execution_count": 82,
   "id": "730c8437-5ee8-4e06-9d95-2d7dccf084ee",
   "metadata": {},
   "outputs": [],
   "source": [
    "# Add alpha to the Dataframe\n",
    "alpha = []\n",
    "\n",
    "for value in df[\"t\"]:\n",
    "    if value <= 3:\n",
    "        alpha.append(0.24)\n",
    "    if value > 3:\n",
    "        alpha.append(0.12)\n",
    "        \n",
    "df[\"alpha\"] = alpha\n",
    "\n",
    "# Add supply to the Dataframe\n",
    "s_t = []\n",
    "\n",
    "for value in df[\"t\"]:\n",
    "    s_t.append(1859 - (43.003515)*value)\n",
    "    \n",
    "df[\"s(t)\"] = s_t  \n"
   ]
  },
  {
   "cell_type": "markdown",
   "id": "0b2d178c-d1d3-4c4c-94eb-e05f138db49f",
   "metadata": {},
   "source": [
    "### Model and While loop that generates the data for figure 2"
   ]
  },
  {
   "cell_type": "code",
   "execution_count": 92,
   "id": "bbd1bb3d-de40-4832-afe4-a027f78ed20d",
   "metadata": {},
   "outputs": [],
   "source": [
    "# Parameter for beta\n",
    "beta = 0.57 \n",
    "\n",
    "# Parameters for demand \n",
    "d0 = 1380.2\n",
    "p0 = 24.76\n",
    "b_par = 8.492\n",
    "a_par = d0 + b_par*p0\n",
    "\n",
    "# Add empty variables to the dataframe\n",
    "df[\"p(t)\"] = np.nan\n",
    "df[\"d(t)\"] = np.nan\n",
    "df[\"M(t)\"] = np.nan\n",
    "df[\"B(t)\"] = np.nan\n",
    "df[\"c(t)\"] = np.nan\n",
    "df[\"m_in(t)\"] = np.nan\n",
    "df[\"m_out(t)\"] = np.nan\n",
    "\n",
    "# Set initial values for variables\n",
    "df.loc[0, 'd(t)'] = 0\n",
    "df.loc[0, 'M(t)'] = 1924\n",
    "df.loc[0, 'B(t)'] = 1579\n",
    "df.loc[0:2, 'c(t)'] = 0\n",
    "df.loc[0, 'm_in(t)'] = df.loc[0, 'm_out(t)'] = 0\n",
    "\n",
    "df.loc[0, 'p(t)'] = 20\n",
    "loopcount = 30.1\n",
    "\n",
    "p0_initial_store = []\n",
    "B_end = []\n",
    "\n",
    "while df.loc[0, 'p(t)'] < loopcount:\n",
    "    \n",
    "    for i in range(1, len(df)):\n",
    "        df.loc[i, 'p(t)'] = df.loc[i-1, 'p(t)'] * (1 + 0.05)                                                                           # EQ1\n",
    "    \n",
    "        df.loc[i, 'd(t)'] = a_par - (b_par * df.loc[i, 'p(t)'])                                                                        # EQ2\n",
    "    \n",
    "        df.loc[i, 'm_in(t)'] = max(0, df.loc[i, 'alpha'] * df.loc[i-1, 'B(t)'] * (df.loc[i-1, 'B(t)'] - 833))\\\n",
    "        * (df.loc[i-1, 'B(t)'] - 833) / ((df.loc[i-1, 'B(t)'] - 833) * (df.loc[i-1, 'B(t)'] - 833) + 0.01)                             # EQ3\n",
    "    \n",
    "        df.loc[i, 'm_out(t)'] = min(df.loc[i-1, 'M(t)'], (max(0, 100*(400 - df.loc[i-1, 'B(t)'])) * (400 - df.loc[i-1, 'B(t)'])\\\n",
    "                                / ((400 - df.loc[i-1, 'B(t)']) * (400 - df.loc[i-1, 'B(t)']) + 0.01)))                             # EQ4\n",
    "    \n",
    "        df.loc[i, 'M(t)'] = df.loc[i-1, 'M(t)'] + df.loc[i, 'm_in(t)'] - df.loc[i, 'm_out(t)'] - df.loc[i-1, 'c(t)']                   # EQ5\n",
    "    \n",
    "        if df.loc[i, 't'] > 2:                                                                                                         # EQ6\n",
    "            df.loc[i, 'c(t)'] = max(0, df.loc[i, 'M(t)'] - 0.57*df.loc[i, 's(t)'])\n",
    "        else:\n",
    "            df.loc[i, 'c(t)'] = 0\n",
    "\n",
    "        df.loc[i, 'B(t)'] = df.loc[i, 's(t)'] - df.loc[i, 'm_in(t)'] + df.loc[i, 'm_out(t)'] - df.loc[i, 'd(t)'] + df.loc[i-1, 'B(t)'] # EQ7\n",
    "\n",
    "    \n",
    "    \n",
    "    p0_initial_store.append(df.loc[0, 'p(t)'])\n",
    "    B_end.append(df.loc[30, 'B(t)'])\n",
    "    df.loc[0, 'p(t)'] += 0.1"
   ]
  },
  {
   "cell_type": "markdown",
   "id": "59544c80-bbad-45c9-9ecf-46cd8091a312",
   "metadata": {},
   "source": [
    "### Save data"
   ]
  },
  {
   "cell_type": "code",
   "execution_count": 93,
   "id": "4077aa3f-09c0-4a2f-ae32-d20258b7310a",
   "metadata": {},
   "outputs": [],
   "source": [
    "dict2 = {'p0': p0_initial_store, 'B_end':B_end}\n",
    "df2 = pd.DataFrame(dict2)"
   ]
  },
  {
   "cell_type": "markdown",
   "id": "a2297710-1532-410f-b196-d3403e7511fd",
   "metadata": {},
   "source": [
    "### Plot figure"
   ]
  },
  {
   "cell_type": "code",
   "execution_count": 94,
   "id": "5ab97c79-b523-4c0e-bb5d-cb5cc62dc21a",
   "metadata": {},
   "outputs": [
    {
     "data": {
      "image/png": "[encoded data removed]",
      "text/plain": [
       "<Figure size 640x440 with 1 Axes>"
      ]
     },
     "metadata": {},
     "output_type": "display_data"
    }
   ],
   "source": [
    "from matplotlib import style\n",
    "\n",
    "ax = plt.gca()\n",
    "\n",
    "# Use plot() method\n",
    "df2.plot( x = 'p0' , y = 'B_end', legend=None, ax = ax )\n",
    "plt.xlabel('Price in first period [€/tCO2]')\n",
    "plt.ylabel('Banking after last period (2050) [MtCO2]')\n",
    "plt.axhline(0, color = \"black\")\n",
    "plt.style.use(\"seaborn-v0_8-whitegrid\")\n",
    "plt.show()"
   ]
  },
  {
   "cell_type": "code",
   "execution_count": null,
   "id": "0d4b170d-1ff0-4637-a1d4-4e9d38c4ba48",
   "metadata": {},
   "outputs": [],
   "source": []
  }
 ],
 "metadata": {
  "kernelspec": {
   "display_name": "Python 3 (ipykernel)",
   "language": "python",
   "name": "python3"
  },
  "language_info": {
   "codemirror_mode": {
    "name": "ipython",
    "version": 3
   },
   "file_extension": ".py",
   "mimetype": "text/x-python",
   "name": "python",
   "nbconvert_exporter": "python",
   "pygments_lexer": "ipython3",
   "version": "3.10.10"
  }
 },
 "nbformat": 4,
 "nbformat_minor": 5
}
